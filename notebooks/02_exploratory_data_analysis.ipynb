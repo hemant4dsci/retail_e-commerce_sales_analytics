{
 "cells": [
  {
   "cell_type": "markdown",
   "id": "ac2932e2",
   "metadata": {},
   "source": [
    "# **Exploratory Data Analysis**\n",
    "* Previousely, We examined the various tables in the database to identify key variables, understand, their realationships, and determine which one should be inclueded in final analysis.\n",
    "* In this phase, We are exploring the resultant table to gain insights into the distribution of each column.\n",
    "* This will enable us to discover underlying patterns and valuable insights."
   ]
  },
  {
   "cell_type": "markdown",
   "id": "de8e35ea",
   "metadata": {},
   "source": [
    ">### Importing Libraries"
   ]
  },
  {
   "cell_type": "code",
   "execution_count": 1,
   "id": "c45525fa",
   "metadata": {},
   "outputs": [],
   "source": [
    "import pandas as pd\n",
    "import numpy as np\n",
    "import matplotlib.pyplot as plt\n",
    "import seaborn as sns\n",
    "import scipy.stats as stats\n",
    "\n",
    "%matplotlib inline"
   ]
  },
  {
   "cell_type": "markdown",
   "id": "cab78f2c",
   "metadata": {},
   "source": [
    ">### Establishing connection with **MySQL** Data-Base"
   ]
  },
  {
   "cell_type": "code",
   "execution_count": 2,
   "id": "9d06a9fc",
   "metadata": {},
   "outputs": [],
   "source": [
    "from sqlalchemy import create_engine\n",
    "\n",
    "\"\"\"Connection Details\"\"\"\n",
    "\n",
    "user = \"root\"  # your MySQL username\n",
    "password = \"tictok#2020\"\n",
    "host = \"localhost\"  # your MySQL server IP\n",
    "port = \"3306\"\n",
    "database = \"contoso_sales\"\n",
    "\n",
    "try:\n",
    "    engine = create_engine(\n",
    "        f\"mysql+pymysql://{user}:{password}@{host}:{port}/{database}\"\n",
    "    )\n",
    "except Exception as exc:\n",
    "    print(\"Error while connecting to mysql\", exc)"
   ]
  },
  {
   "cell_type": "markdown",
   "id": "a86005ff",
   "metadata": {},
   "source": [
    ">### Loading Data-Set"
   ]
  },
  {
   "cell_type": "code",
   "execution_count": 3,
   "id": "e7be1140",
   "metadata": {},
   "outputs": [
    {
     "data": {
      "application/vnd.microsoft.datawrangler.viewer.v0+json": {
       "columns": [
        {
         "name": "index",
         "rawType": "int64",
         "type": "integer"
        },
        {
         "name": "id",
         "rawType": "int64",
         "type": "integer"
        },
        {
         "name": "dates",
         "rawType": "object",
         "type": "unknown"
        },
        {
         "name": "years",
         "rawType": "object",
         "type": "string"
        },
        {
         "name": "quarters",
         "rawType": "object",
         "type": "string"
        },
        {
         "name": "channel_name",
         "rawType": "object",
         "type": "string"
        },
        {
         "name": "brand_name",
         "rawType": "object",
         "type": "string"
        },
        {
         "name": "continent_name",
         "rawType": "object",
         "type": "string"
        },
        {
         "name": "country_name",
         "rawType": "object",
         "type": "string"
        },
        {
         "name": "product_category_name",
         "rawType": "object",
         "type": "string"
        },
        {
         "name": "return_amount",
         "rawType": "float64",
         "type": "float"
        },
        {
         "name": "discount_amount",
         "rawType": "float64",
         "type": "float"
        },
        {
         "name": "total_cost",
         "rawType": "float64",
         "type": "float"
        },
        {
         "name": "total_sales",
         "rawType": "float64",
         "type": "float"
        },
        {
         "name": "net_sales",
         "rawType": "float64",
         "type": "float"
        },
        {
         "name": "net_profit",
         "rawType": "float64",
         "type": "float"
        },
        {
         "name": "profit_margin",
         "rawType": "float64",
         "type": "float"
        }
       ],
       "ref": "553dab47-74a7-4909-a34a-e49ec69da5d3",
       "rows": [
        [
         "0",
         "1",
         "2007-01-01",
         "2007",
         "Q1",
         "Store",
         "Contoso",
         "Asia",
         "China",
         "Audio",
         "0.0",
         "6.47",
         "66.0",
         "129.42",
         "122.95",
         "56.95",
         "46.32"
        ],
        [
         "1",
         "2",
         "2007-01-01",
         "2007",
         "Q1",
         "Store",
         "Contoso",
         "Europe",
         "United Kingdom",
         "Audio",
         "299.23",
         "119.69",
         "793.12",
         "2393.84",
         "1974.92",
         "1181.8",
         "59.84"
        ],
        [
         "2",
         "3",
         "2007-01-01",
         "2007",
         "Q1",
         "Store",
         "Contoso",
         "North America",
         "United States",
         "Audio",
         "0.0",
         "14.96",
         "892.26",
         "2693.07",
         "2678.11",
         "1785.85",
         "66.68"
        ],
        [
         "3",
         "4",
         "2007-01-01",
         "2007",
         "Q1",
         "Store",
         "Wide World Importers",
         "Europe",
         "Romania",
         "Audio",
         "0.0",
         "0.0",
         "305.8",
         "599.8",
         "599.8",
         "294.0",
         "49.02"
        ],
        [
         "4",
         "5",
         "2007-01-01",
         "2007",
         "Q1",
         "Store",
         "Wide World Importers",
         "Europe",
         "Slovenia",
         "Audio",
         "149.95",
         "29.99",
         "305.8",
         "599.8",
         "419.86",
         "114.06",
         "27.17"
        ]
       ],
       "shape": {
        "columns": 16,
        "rows": 5
       }
      },
      "text/html": [
       "<div>\n",
       "<style scoped>\n",
       "    .dataframe tbody tr th:only-of-type {\n",
       "        vertical-align: middle;\n",
       "    }\n",
       "\n",
       "    .dataframe tbody tr th {\n",
       "        vertical-align: top;\n",
       "    }\n",
       "\n",
       "    .dataframe thead th {\n",
       "        text-align: right;\n",
       "    }\n",
       "</style>\n",
       "<table border=\"1\" class=\"dataframe\">\n",
       "  <thead>\n",
       "    <tr style=\"text-align: right;\">\n",
       "      <th></th>\n",
       "      <th>id</th>\n",
       "      <th>dates</th>\n",
       "      <th>years</th>\n",
       "      <th>quarters</th>\n",
       "      <th>channel_name</th>\n",
       "      <th>brand_name</th>\n",
       "      <th>continent_name</th>\n",
       "      <th>country_name</th>\n",
       "      <th>product_category_name</th>\n",
       "      <th>return_amount</th>\n",
       "      <th>discount_amount</th>\n",
       "      <th>total_cost</th>\n",
       "      <th>total_sales</th>\n",
       "      <th>net_sales</th>\n",
       "      <th>net_profit</th>\n",
       "      <th>profit_margin</th>\n",
       "    </tr>\n",
       "  </thead>\n",
       "  <tbody>\n",
       "    <tr>\n",
       "      <th>0</th>\n",
       "      <td>1</td>\n",
       "      <td>2007-01-01</td>\n",
       "      <td>2007</td>\n",
       "      <td>Q1</td>\n",
       "      <td>Store</td>\n",
       "      <td>Contoso</td>\n",
       "      <td>Asia</td>\n",
       "      <td>China</td>\n",
       "      <td>Audio</td>\n",
       "      <td>0.00</td>\n",
       "      <td>6.47</td>\n",
       "      <td>66.00</td>\n",
       "      <td>129.42</td>\n",
       "      <td>122.95</td>\n",
       "      <td>56.95</td>\n",
       "      <td>46.32</td>\n",
       "    </tr>\n",
       "    <tr>\n",
       "      <th>1</th>\n",
       "      <td>2</td>\n",
       "      <td>2007-01-01</td>\n",
       "      <td>2007</td>\n",
       "      <td>Q1</td>\n",
       "      <td>Store</td>\n",
       "      <td>Contoso</td>\n",
       "      <td>Europe</td>\n",
       "      <td>United Kingdom</td>\n",
       "      <td>Audio</td>\n",
       "      <td>299.23</td>\n",
       "      <td>119.69</td>\n",
       "      <td>793.12</td>\n",
       "      <td>2393.84</td>\n",
       "      <td>1974.92</td>\n",
       "      <td>1181.80</td>\n",
       "      <td>59.84</td>\n",
       "    </tr>\n",
       "    <tr>\n",
       "      <th>2</th>\n",
       "      <td>3</td>\n",
       "      <td>2007-01-01</td>\n",
       "      <td>2007</td>\n",
       "      <td>Q1</td>\n",
       "      <td>Store</td>\n",
       "      <td>Contoso</td>\n",
       "      <td>North America</td>\n",
       "      <td>United States</td>\n",
       "      <td>Audio</td>\n",
       "      <td>0.00</td>\n",
       "      <td>14.96</td>\n",
       "      <td>892.26</td>\n",
       "      <td>2693.07</td>\n",
       "      <td>2678.11</td>\n",
       "      <td>1785.85</td>\n",
       "      <td>66.68</td>\n",
       "    </tr>\n",
       "    <tr>\n",
       "      <th>3</th>\n",
       "      <td>4</td>\n",
       "      <td>2007-01-01</td>\n",
       "      <td>2007</td>\n",
       "      <td>Q1</td>\n",
       "      <td>Store</td>\n",
       "      <td>Wide World Importers</td>\n",
       "      <td>Europe</td>\n",
       "      <td>Romania</td>\n",
       "      <td>Audio</td>\n",
       "      <td>0.00</td>\n",
       "      <td>0.00</td>\n",
       "      <td>305.80</td>\n",
       "      <td>599.80</td>\n",
       "      <td>599.80</td>\n",
       "      <td>294.00</td>\n",
       "      <td>49.02</td>\n",
       "    </tr>\n",
       "    <tr>\n",
       "      <th>4</th>\n",
       "      <td>5</td>\n",
       "      <td>2007-01-01</td>\n",
       "      <td>2007</td>\n",
       "      <td>Q1</td>\n",
       "      <td>Store</td>\n",
       "      <td>Wide World Importers</td>\n",
       "      <td>Europe</td>\n",
       "      <td>Slovenia</td>\n",
       "      <td>Audio</td>\n",
       "      <td>149.95</td>\n",
       "      <td>29.99</td>\n",
       "      <td>305.80</td>\n",
       "      <td>599.80</td>\n",
       "      <td>419.86</td>\n",
       "      <td>114.06</td>\n",
       "      <td>27.17</td>\n",
       "    </tr>\n",
       "  </tbody>\n",
       "</table>\n",
       "</div>"
      ],
      "text/plain": [
       "   id       dates years quarters channel_name            brand_name  \\\n",
       "0   1  2007-01-01  2007       Q1        Store               Contoso   \n",
       "1   2  2007-01-01  2007       Q1        Store               Contoso   \n",
       "2   3  2007-01-01  2007       Q1        Store               Contoso   \n",
       "3   4  2007-01-01  2007       Q1        Store  Wide World Importers   \n",
       "4   5  2007-01-01  2007       Q1        Store  Wide World Importers   \n",
       "\n",
       "  continent_name    country_name product_category_name  return_amount  \\\n",
       "0           Asia           China                 Audio           0.00   \n",
       "1         Europe  United Kingdom                 Audio         299.23   \n",
       "2  North America   United States                 Audio           0.00   \n",
       "3         Europe         Romania                 Audio           0.00   \n",
       "4         Europe        Slovenia                 Audio         149.95   \n",
       "\n",
       "   discount_amount  total_cost  total_sales  net_sales  net_profit  \\\n",
       "0             6.47       66.00       129.42     122.95       56.95   \n",
       "1           119.69      793.12      2393.84    1974.92     1181.80   \n",
       "2            14.96      892.26      2693.07    2678.11     1785.85   \n",
       "3             0.00      305.80       599.80     599.80      294.00   \n",
       "4            29.99      305.80       599.80     419.86      114.06   \n",
       "\n",
       "   profit_margin  \n",
       "0          46.32  \n",
       "1          59.84  \n",
       "2          66.68  \n",
       "3          49.02  \n",
       "4          27.17  "
      ]
     },
     "execution_count": 3,
     "metadata": {},
     "output_type": "execute_result"
    }
   ],
   "source": [
    "sql_query = \"\"\"\n",
    "    SELECT * FROM sales_summary;\n",
    "\"\"\"\n",
    "\n",
    "df = pd.read_sql(sql=sql_query, con=engine)\n",
    "df.head()"
   ]
  },
  {
   "cell_type": "markdown",
   "id": "03363108",
   "metadata": {},
   "source": [
    ">### Data Structrue Overview"
   ]
  },
  {
   "cell_type": "code",
   "execution_count": null,
   "id": "ababe536",
   "metadata": {},
   "outputs": [
    {
     "data": {
      "text/plain": [
       "(348484, 16)"
      ]
     },
     "execution_count": 21,
     "metadata": {},
     "output_type": "execute_result"
    }
   ],
   "source": [
    "# Shape of the Data-Set\n",
    "df.shape"
   ]
  },
  {
   "cell_type": "code",
   "execution_count": null,
   "id": "9bc2ed02",
   "metadata": {},
   "outputs": [
    {
     "data": {
      "text/plain": [
       "np.int64(0)"
      ]
     },
     "execution_count": 23,
     "metadata": {},
     "output_type": "execute_result"
    }
   ],
   "source": [
    "# Checking for duplicate values\n",
    "df.duplicated().sum()"
   ]
  },
  {
   "cell_type": "code",
   "execution_count": 24,
   "id": "e3c0be61",
   "metadata": {},
   "outputs": [
    {
     "name": "stdout",
     "output_type": "stream",
     "text": [
      "<class 'pandas.core.frame.DataFrame'>\n",
      "RangeIndex: 348484 entries, 0 to 348483\n",
      "Data columns (total 16 columns):\n",
      " #   Column                 Non-Null Count   Dtype  \n",
      "---  ------                 --------------   -----  \n",
      " 0   id                     348484 non-null  int64  \n",
      " 1   dates                  348484 non-null  object \n",
      " 2   years                  348484 non-null  object \n",
      " 3   quarters               348484 non-null  object \n",
      " 4   channel_name           348484 non-null  object \n",
      " 5   brand_name             348484 non-null  object \n",
      " 6   continent_name         348484 non-null  object \n",
      " 7   country_name           348484 non-null  object \n",
      " 8   product_category_name  348484 non-null  object \n",
      " 9   return_amount          348484 non-null  float64\n",
      " 10  discount_amount        348484 non-null  float64\n",
      " 11  total_cost             348484 non-null  float64\n",
      " 12  total_sales            348484 non-null  float64\n",
      " 13  net_sales              348484 non-null  float64\n",
      " 14  net_profit             348484 non-null  float64\n",
      " 15  profit_margin          348484 non-null  float64\n",
      "dtypes: float64(7), int64(1), object(8)\n",
      "memory usage: 42.5+ MB\n"
     ]
    }
   ],
   "source": [
    "# Shows columns, Null values and Data Type\n",
    "df.info()"
   ]
  },
  {
   "cell_type": "code",
   "execution_count": null,
   "id": "d39ed0d5",
   "metadata": {},
   "outputs": [
    {
     "data": {
      "application/vnd.microsoft.datawrangler.viewer.v0+json": {
       "columns": [
        {
         "name": "index",
         "rawType": "object",
         "type": "string"
        },
        {
         "name": "0",
         "rawType": "int64",
         "type": "integer"
        }
       ],
       "ref": "8206516e-d75c-4af8-b4d3-8d7ff9743383",
       "rows": [
        [
         "years",
         "3"
        ],
        [
         "continent_name",
         "3"
        ],
        [
         "channel_name",
         "4"
        ],
        [
         "quarters",
         "4"
        ],
        [
         "product_category_name",
         "8"
        ],
        [
         "brand_name",
         "11"
        ],
        [
         "country_name",
         "34"
        ],
        [
         "dates",
         "1096"
        ],
        [
         "return_amount",
         "6904"
        ],
        [
         "profit_margin",
         "12001"
        ],
        [
         "total_sales",
         "15811"
        ],
        [
         "total_cost",
         "18826"
        ],
        [
         "discount_amount",
         "37447"
        ],
        [
         "net_sales",
         "115758"
        ],
        [
         "net_profit",
         "120561"
        ],
        [
         "id",
         "348484"
        ]
       ],
       "shape": {
        "columns": 1,
        "rows": 16
       }
      },
      "text/plain": [
       "years                         3\n",
       "continent_name                3\n",
       "channel_name                  4\n",
       "quarters                      4\n",
       "product_category_name         8\n",
       "brand_name                   11\n",
       "country_name                 34\n",
       "dates                      1096\n",
       "return_amount              6904\n",
       "profit_margin             12001\n",
       "total_sales               15811\n",
       "total_cost                18826\n",
       "discount_amount           37447\n",
       "net_sales                115758\n",
       "net_profit               120561\n",
       "id                       348484\n",
       "dtype: int64"
      ]
     },
     "execution_count": 26,
     "metadata": {},
     "output_type": "execute_result"
    }
   ],
   "source": [
    "# Checking for number of unique values in each feature or column\n",
    "df.nunique().sort_values()"
   ]
  },
  {
   "cell_type": "markdown",
   "id": "1312a5dd",
   "metadata": {},
   "source": [
    ">### Data Cleaning & Handling Missing Values"
   ]
  },
  {
   "cell_type": "code",
   "execution_count": 27,
   "id": "3c2cecd2",
   "metadata": {},
   "outputs": [],
   "source": [
    "# Removing duplicate if present\n",
    "df.drop_duplicates(inplace=True)"
   ]
  },
  {
   "cell_type": "code",
   "execution_count": 28,
   "id": "cfee7f59",
   "metadata": {},
   "outputs": [
    {
     "data": {
      "application/vnd.microsoft.datawrangler.viewer.v0+json": {
       "columns": [
        {
         "name": "index",
         "rawType": "object",
         "type": "string"
        },
        {
         "name": "0",
         "rawType": "int64",
         "type": "integer"
        }
       ],
       "ref": "aadd090f-c8bb-406b-8d63-661597a9ee3e",
       "rows": [
        [
         "id",
         "0"
        ],
        [
         "dates",
         "0"
        ],
        [
         "years",
         "0"
        ],
        [
         "quarters",
         "0"
        ],
        [
         "channel_name",
         "0"
        ],
        [
         "brand_name",
         "0"
        ],
        [
         "continent_name",
         "0"
        ],
        [
         "country_name",
         "0"
        ],
        [
         "product_category_name",
         "0"
        ],
        [
         "return_amount",
         "0"
        ],
        [
         "discount_amount",
         "0"
        ],
        [
         "total_cost",
         "0"
        ],
        [
         "total_sales",
         "0"
        ],
        [
         "net_sales",
         "0"
        ],
        [
         "net_profit",
         "0"
        ],
        [
         "profit_margin",
         "0"
        ]
       ],
       "shape": {
        "columns": 1,
        "rows": 16
       }
      },
      "text/plain": [
       "id                       0\n",
       "dates                    0\n",
       "years                    0\n",
       "quarters                 0\n",
       "channel_name             0\n",
       "brand_name               0\n",
       "continent_name           0\n",
       "country_name             0\n",
       "product_category_name    0\n",
       "return_amount            0\n",
       "discount_amount          0\n",
       "total_cost               0\n",
       "total_sales              0\n",
       "net_sales                0\n",
       "net_profit               0\n",
       "profit_margin            0\n",
       "dtype: int64"
      ]
     },
     "execution_count": 28,
     "metadata": {},
     "output_type": "execute_result"
    }
   ],
   "source": [
    "# Checking for null values\n",
    "df.isnull().sum().sort_values(ascending=False)"
   ]
  },
  {
   "cell_type": "markdown",
   "id": "e1780ca0",
   "metadata": {},
   "source": [
    ">### Summary Statstics"
   ]
  },
  {
   "cell_type": "code",
   "execution_count": 20,
   "id": "a6d25128",
   "metadata": {},
   "outputs": [
    {
     "data": {
      "application/vnd.microsoft.datawrangler.viewer.v0+json": {
       "columns": [
        {
         "name": "index",
         "rawType": "object",
         "type": "string"
        },
        {
         "name": "id",
         "rawType": "float64",
         "type": "float"
        },
        {
         "name": "return_amount",
         "rawType": "float64",
         "type": "float"
        },
        {
         "name": "discount_amount",
         "rawType": "float64",
         "type": "float"
        },
        {
         "name": "total_cost",
         "rawType": "float64",
         "type": "float"
        },
        {
         "name": "total_sales",
         "rawType": "float64",
         "type": "float"
        },
        {
         "name": "net_sales",
         "rawType": "float64",
         "type": "float"
        },
        {
         "name": "net_profit",
         "rawType": "float64",
         "type": "float"
        },
        {
         "name": "profit_margin",
         "rawType": "float64",
         "type": "float"
        }
       ],
       "ref": "8f446baf-1414-42cd-a03f-afb06bd50cc2",
       "rows": [
        [
         "count",
         "348484.0",
         "348484.0",
         "348484.0",
         "348484.0",
         "348484.0",
         "348484.0",
         "348484.0",
         "348484.0"
        ],
        [
         "mean",
         "174242.5",
         "118.34392095476407",
         "153.4531318224079",
         "2386.724938189415",
         "5352.136380292925",
         "5080.339327515754",
         "2693.6143893263393",
         "51.77028959722685"
        ],
        [
         "std",
         "100598.80994160252",
         "371.4781902301106",
         "386.3077358212265",
         "3118.632076305056",
         "7116.969490997259",
         "6850.342649007904",
         "3896.504498986608",
         "1383.188998901304"
        ],
        [
         "min",
         "1.0",
         "0.0",
         "0.0",
         "1.92",
         "3.8",
         "-8791.87",
         "-9515.77",
         "-260665.22"
        ],
        [
         "25%",
         "87121.75",
         "0.0",
         "0.0",
         "521.64",
         "1079.91",
         "980.0",
         "457.39",
         "47.23"
        ],
        [
         "50%",
         "174242.5",
         "0.0",
         "15.96",
         "1427.4",
         "3055.2",
         "2899.8900000000003",
         "1450.8",
         "49.02"
        ],
        [
         "75%",
         "261363.25",
         "9.99",
         "135.9825",
         "2985.6",
         "6730.0",
         "6412.15",
         "3445.84",
         "54.01"
        ],
        [
         "max",
         "348484.0",
         "9996.0",
         "12461.6",
         "91411.84",
         "275901.6",
         "272718.12",
         "181306.28",
         "659350.0"
        ]
       ],
       "shape": {
        "columns": 8,
        "rows": 8
       }
      },
      "text/html": [
       "<div>\n",
       "<style scoped>\n",
       "    .dataframe tbody tr th:only-of-type {\n",
       "        vertical-align: middle;\n",
       "    }\n",
       "\n",
       "    .dataframe tbody tr th {\n",
       "        vertical-align: top;\n",
       "    }\n",
       "\n",
       "    .dataframe thead th {\n",
       "        text-align: right;\n",
       "    }\n",
       "</style>\n",
       "<table border=\"1\" class=\"dataframe\">\n",
       "  <thead>\n",
       "    <tr style=\"text-align: right;\">\n",
       "      <th></th>\n",
       "      <th>id</th>\n",
       "      <th>return_amount</th>\n",
       "      <th>discount_amount</th>\n",
       "      <th>total_cost</th>\n",
       "      <th>total_sales</th>\n",
       "      <th>net_sales</th>\n",
       "      <th>net_profit</th>\n",
       "      <th>profit_margin</th>\n",
       "    </tr>\n",
       "  </thead>\n",
       "  <tbody>\n",
       "    <tr>\n",
       "      <th>count</th>\n",
       "      <td>348484.000000</td>\n",
       "      <td>348484.000000</td>\n",
       "      <td>348484.000000</td>\n",
       "      <td>348484.000000</td>\n",
       "      <td>348484.000000</td>\n",
       "      <td>348484.000000</td>\n",
       "      <td>348484.000000</td>\n",
       "      <td>348484.000000</td>\n",
       "    </tr>\n",
       "    <tr>\n",
       "      <th>mean</th>\n",
       "      <td>174242.500000</td>\n",
       "      <td>118.343921</td>\n",
       "      <td>153.453132</td>\n",
       "      <td>2386.724938</td>\n",
       "      <td>5352.136380</td>\n",
       "      <td>5080.339328</td>\n",
       "      <td>2693.614389</td>\n",
       "      <td>51.770290</td>\n",
       "    </tr>\n",
       "    <tr>\n",
       "      <th>std</th>\n",
       "      <td>100598.809942</td>\n",
       "      <td>371.478190</td>\n",
       "      <td>386.307736</td>\n",
       "      <td>3118.632076</td>\n",
       "      <td>7116.969491</td>\n",
       "      <td>6850.342649</td>\n",
       "      <td>3896.504499</td>\n",
       "      <td>1383.188999</td>\n",
       "    </tr>\n",
       "    <tr>\n",
       "      <th>min</th>\n",
       "      <td>1.000000</td>\n",
       "      <td>0.000000</td>\n",
       "      <td>0.000000</td>\n",
       "      <td>1.920000</td>\n",
       "      <td>3.800000</td>\n",
       "      <td>-8791.870000</td>\n",
       "      <td>-9515.770000</td>\n",
       "      <td>-260665.220000</td>\n",
       "    </tr>\n",
       "    <tr>\n",
       "      <th>25%</th>\n",
       "      <td>87121.750000</td>\n",
       "      <td>0.000000</td>\n",
       "      <td>0.000000</td>\n",
       "      <td>521.640000</td>\n",
       "      <td>1079.910000</td>\n",
       "      <td>980.000000</td>\n",
       "      <td>457.390000</td>\n",
       "      <td>47.230000</td>\n",
       "    </tr>\n",
       "    <tr>\n",
       "      <th>50%</th>\n",
       "      <td>174242.500000</td>\n",
       "      <td>0.000000</td>\n",
       "      <td>15.960000</td>\n",
       "      <td>1427.400000</td>\n",
       "      <td>3055.200000</td>\n",
       "      <td>2899.890000</td>\n",
       "      <td>1450.800000</td>\n",
       "      <td>49.020000</td>\n",
       "    </tr>\n",
       "    <tr>\n",
       "      <th>75%</th>\n",
       "      <td>261363.250000</td>\n",
       "      <td>9.990000</td>\n",
       "      <td>135.982500</td>\n",
       "      <td>2985.600000</td>\n",
       "      <td>6730.000000</td>\n",
       "      <td>6412.150000</td>\n",
       "      <td>3445.840000</td>\n",
       "      <td>54.010000</td>\n",
       "    </tr>\n",
       "    <tr>\n",
       "      <th>max</th>\n",
       "      <td>348484.000000</td>\n",
       "      <td>9996.000000</td>\n",
       "      <td>12461.600000</td>\n",
       "      <td>91411.840000</td>\n",
       "      <td>275901.600000</td>\n",
       "      <td>272718.120000</td>\n",
       "      <td>181306.280000</td>\n",
       "      <td>659350.000000</td>\n",
       "    </tr>\n",
       "  </tbody>\n",
       "</table>\n",
       "</div>"
      ],
      "text/plain": [
       "                  id  return_amount  discount_amount     total_cost  \\\n",
       "count  348484.000000  348484.000000    348484.000000  348484.000000   \n",
       "mean   174242.500000     118.343921       153.453132    2386.724938   \n",
       "std    100598.809942     371.478190       386.307736    3118.632076   \n",
       "min         1.000000       0.000000         0.000000       1.920000   \n",
       "25%     87121.750000       0.000000         0.000000     521.640000   \n",
       "50%    174242.500000       0.000000        15.960000    1427.400000   \n",
       "75%    261363.250000       9.990000       135.982500    2985.600000   \n",
       "max    348484.000000    9996.000000     12461.600000   91411.840000   \n",
       "\n",
       "         total_sales      net_sales     net_profit  profit_margin  \n",
       "count  348484.000000  348484.000000  348484.000000  348484.000000  \n",
       "mean     5352.136380    5080.339328    2693.614389      51.770290  \n",
       "std      7116.969491    6850.342649    3896.504499    1383.188999  \n",
       "min         3.800000   -8791.870000   -9515.770000 -260665.220000  \n",
       "25%      1079.910000     980.000000     457.390000      47.230000  \n",
       "50%      3055.200000    2899.890000    1450.800000      49.020000  \n",
       "75%      6730.000000    6412.150000    3445.840000      54.010000  \n",
       "max    275901.600000  272718.120000  181306.280000  659350.000000  "
      ]
     },
     "execution_count": 20,
     "metadata": {},
     "output_type": "execute_result"
    }
   ],
   "source": [
    "df.describe()"
   ]
  },
  {
   "cell_type": "markdown",
   "id": "0a0561af",
   "metadata": {},
   "source": [
    "##### Summary Statstics Insights\n",
    "Negative Values :\n",
    "* Net Profit: Minimum values is (-9515.77), indicating losses. Some products or transections may be selling at loss, due to high cost.\n",
    "* Profit Margin: Here minimum value is (-260665.22%), which indicates that there are some cases where revenue is lower than the cost. It can be due to heavy discount because cost of product is higher.\n",
    "* Net Sales : Here minimum values is (-8791.87), which indicates that there is heavy discount or returns.\n",
    "\n",
    "Outliers Indicated by High Standard Deviations :\n",
    "* Total Cost & Total Sales : The maximum values are (91411.84) and (275901.6) respectively which is significantly higher than the mean (2386.72) and (5352.13), indicating potential premium products."
   ]
  },
  {
   "cell_type": "code",
   "execution_count": 10,
   "id": "c69058ac",
   "metadata": {},
   "outputs": [
    {
     "data": {
      "image/png": "[encoded data removed]",
      "text/plain": [
       "<Figure size 1500x1000 with 7 Axes>"
      ]
     },
     "metadata": {},
     "output_type": "display_data"
    }
   ],
   "source": [
    "# Box plots for Numerical columns\n",
    "numerical_cols = df.select_dtypes(include=[\"float64\"]).columns\n",
    "\n",
    "plt.figure(figsize=(15, 10))\n",
    "for i, col in enumerate(numerical_cols):\n",
    "    plt.subplot(2, 4, i + 1)  # Adjust Grid layout as needed\n",
    "    sns.boxplot(y=df[col])\n",
    "    plt.xlabel(col)\n",
    "    plt.ylabel(\"Interquartile Range\")\n",
    "plt.tight_layout()\n",
    "plt.show()"
   ]
  },
  {
   "cell_type": "code",
   "execution_count": 58,
   "id": "eac077e6",
   "metadata": {},
   "outputs": [
    {
     "data": {
      "image/png": "[encoded data removed]",
      "text/plain": [
       "<Figure size 1100x1000 with 2 Axes>"
      ]
     },
     "metadata": {},
     "output_type": "display_data"
    }
   ],
   "source": [
    "# correlation heatmap to find out relation between columns\n",
    "\n",
    "plt.figure(figsize=(11, 10))\n",
    "sns.heatmap(\n",
    "    data=df.corr(numeric_only=True),\n",
    "    annot=True,\n",
    "    fmt=\".2f\",\n",
    "    cmap=\"coolwarm\",\n",
    "    linewidths=0.5,\n",
    ")\n",
    "plt.show()"
   ]
  },
  {
   "cell_type": "markdown",
   "id": "0aebd486",
   "metadata": {},
   "source": [
    "##### Correlation Insights\n",
    "* Net Sales has weak correlation with Return Amount (0.30) and Discount Amount (0.35), which indicates that there is no significant impact of discounts and returns on sale.\n",
    "* There is very strong correlation between Total Cost and Total Sales (0.98), Indicating that profit margin will stay about the same."
   ]
  }
 ],
 "metadata": {
  "kernelspec": {
   "display_name": ".venv (3.13.7)",
   "language": "python",
   "name": "python3"
  },
  "language_info": {
   "codemirror_mode": {
    "name": "ipython",
    "version": 3
   },
   "file_extension": ".py",
   "mimetype": "text/x-python",
   "name": "python",
   "nbconvert_exporter": "python",
   "pygments_lexer": "ipython3",
   "version": "3.13.7"
  }
 },
 "nbformat": 4,
 "nbformat_minor": 5
}
