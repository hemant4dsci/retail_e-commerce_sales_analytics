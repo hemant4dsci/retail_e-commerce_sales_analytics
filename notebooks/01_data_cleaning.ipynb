{
 "cells": [
  {
   "cell_type": "code",
   "execution_count": 13,
   "id": "18cfa8f2",
   "metadata": {},
   "outputs": [],
   "source": [
    "import pandas as pd"
   ]
  },
  {
   "cell_type": "code",
   "execution_count": 14,
   "id": "28ca0560",
   "metadata": {},
   "outputs": [],
   "source": [
    "from sqlalchemy import create_engine\n",
    "\n",
    "\"\"\"Connection Details\"\"\"\n",
    "\n",
    "user = \"root\"  # your MySQL username\n",
    "password = \"tictok#2020\"\n",
    "host = \"localhost\"  # your MySQL server IP#\n",
    "port = \"3306\"\n",
    "database = \"vendor_sales\"\n",
    "\n",
    "try:\n",
    "    engine = create_engine(\n",
    "        f\"mysql+pymysql://{user}:{password}@{host}:{port}/{database}\"\n",
    "    )\n",
    "except Exception as exc:\n",
    "    print(\"Error while connecting to mysql\", exc)"
   ]
  },
  {
   "cell_type": "code",
   "execution_count": 15,
   "id": "cfb50aa1",
   "metadata": {},
   "outputs": [
    {
     "data": {
      "application/vnd.microsoft.datawrangler.viewer.v0+json": {
       "columns": [
        {
         "name": "index",
         "rawType": "int64",
         "type": "integer"
        },
        {
         "name": "brand_id",
         "rawType": "int64",
         "type": "integer"
        },
        {
         "name": "vendor_id",
         "rawType": "int64",
         "type": "integer"
        },
        {
         "name": "vendor_name",
         "rawType": "object",
         "type": "string"
        },
        {
         "name": "actual_price",
         "rawType": "float64",
         "type": "float"
        },
        {
         "name": "purchase_price",
         "rawType": "float64",
         "type": "float"
        },
        {
         "name": "sales_price",
         "rawType": "float64",
         "type": "float"
        },
        {
         "name": "purchase_quantity",
         "rawType": "float64",
         "type": "float"
        },
        {
         "name": "sales_quantity",
         "rawType": "float64",
         "type": "float"
        },
        {
         "name": "total_purchase",
         "rawType": "float64",
         "type": "float"
        },
        {
         "name": "total_sales",
         "rawType": "float64",
         "type": "float"
        },
        {
         "name": "total_excise_tax",
         "rawType": "float64",
         "type": "float"
        },
        {
         "name": "total_freight_cost",
         "rawType": "float64",
         "type": "float"
        }
       ],
       "ref": "9676d4fe-0544-4e09-992c-68abbf2fc568",
       "rows": [
        [
         "0",
         "8412",
         "105",
         "ALTAMAR BRANDS LLC         ",
         "49.99",
         "35.71",
         "49.99",
         "18.0",
         "10.0",
         "642.78",
         "499.9",
         "7.9",
         "62.39"
        ],
        [
         "1",
         "5255",
         "4466",
         "AMERICAN VINTAGE BEVERAGE  ",
         "12.99",
         "9.35",
         "12.99",
         "343.0",
         "390.0",
         "3207.05",
         "5066.1",
         "717.0",
         "793.91"
        ],
        [
         "2",
         "5215",
         "4466",
         "AMERICAN VINTAGE BEVERAGE  ",
         "12.99",
         "9.41",
         "12.99",
         "199.0",
         "290.0",
         "1872.59",
         "3767.1",
         "533.15",
         "793.91"
        ],
        [
         "3",
         "2034",
         "388",
         "ATLANTIC IMPORTING COMPANY ",
         "32.99",
         "21.32",
         "28.99",
         "235.0",
         "155.0",
         "5010.2",
         "4493.45",
         "122.4",
         "211.74"
        ],
        [
         "4",
         "3348",
         "480",
         "BACARDI USA INC            ",
         "29.99",
         "22.38",
         "36.99",
         "1129.0",
         "2215.0",
         "25267.02",
         "79587.85",
         "4070.65",
         "89286.27"
        ]
       ],
       "shape": {
        "columns": 12,
        "rows": 5
       }
      },
      "text/html": [
       "<div>\n",
       "<style scoped>\n",
       "    .dataframe tbody tr th:only-of-type {\n",
       "        vertical-align: middle;\n",
       "    }\n",
       "\n",
       "    .dataframe tbody tr th {\n",
       "        vertical-align: top;\n",
       "    }\n",
       "\n",
       "    .dataframe thead th {\n",
       "        text-align: right;\n",
       "    }\n",
       "</style>\n",
       "<table border=\"1\" class=\"dataframe\">\n",
       "  <thead>\n",
       "    <tr style=\"text-align: right;\">\n",
       "      <th></th>\n",
       "      <th>brand_id</th>\n",
       "      <th>vendor_id</th>\n",
       "      <th>vendor_name</th>\n",
       "      <th>actual_price</th>\n",
       "      <th>purchase_price</th>\n",
       "      <th>sales_price</th>\n",
       "      <th>purchase_quantity</th>\n",
       "      <th>sales_quantity</th>\n",
       "      <th>total_purchase</th>\n",
       "      <th>total_sales</th>\n",
       "      <th>total_excise_tax</th>\n",
       "      <th>total_freight_cost</th>\n",
       "    </tr>\n",
       "  </thead>\n",
       "  <tbody>\n",
       "    <tr>\n",
       "      <th>0</th>\n",
       "      <td>8412</td>\n",
       "      <td>105</td>\n",
       "      <td>ALTAMAR BRANDS LLC</td>\n",
       "      <td>49.99</td>\n",
       "      <td>35.71</td>\n",
       "      <td>49.99</td>\n",
       "      <td>18.0</td>\n",
       "      <td>10.0</td>\n",
       "      <td>642.78</td>\n",
       "      <td>499.90</td>\n",
       "      <td>7.90</td>\n",
       "      <td>62.39</td>\n",
       "    </tr>\n",
       "    <tr>\n",
       "      <th>1</th>\n",
       "      <td>5255</td>\n",
       "      <td>4466</td>\n",
       "      <td>AMERICAN VINTAGE BEVERAGE</td>\n",
       "      <td>12.99</td>\n",
       "      <td>9.35</td>\n",
       "      <td>12.99</td>\n",
       "      <td>343.0</td>\n",
       "      <td>390.0</td>\n",
       "      <td>3207.05</td>\n",
       "      <td>5066.10</td>\n",
       "      <td>717.00</td>\n",
       "      <td>793.91</td>\n",
       "    </tr>\n",
       "    <tr>\n",
       "      <th>2</th>\n",
       "      <td>5215</td>\n",
       "      <td>4466</td>\n",
       "      <td>AMERICAN VINTAGE BEVERAGE</td>\n",
       "      <td>12.99</td>\n",
       "      <td>9.41</td>\n",
       "      <td>12.99</td>\n",
       "      <td>199.0</td>\n",
       "      <td>290.0</td>\n",
       "      <td>1872.59</td>\n",
       "      <td>3767.10</td>\n",
       "      <td>533.15</td>\n",
       "      <td>793.91</td>\n",
       "    </tr>\n",
       "    <tr>\n",
       "      <th>3</th>\n",
       "      <td>2034</td>\n",
       "      <td>388</td>\n",
       "      <td>ATLANTIC IMPORTING COMPANY</td>\n",
       "      <td>32.99</td>\n",
       "      <td>21.32</td>\n",
       "      <td>28.99</td>\n",
       "      <td>235.0</td>\n",
       "      <td>155.0</td>\n",
       "      <td>5010.20</td>\n",
       "      <td>4493.45</td>\n",
       "      <td>122.40</td>\n",
       "      <td>211.74</td>\n",
       "    </tr>\n",
       "    <tr>\n",
       "      <th>4</th>\n",
       "      <td>3348</td>\n",
       "      <td>480</td>\n",
       "      <td>BACARDI USA INC</td>\n",
       "      <td>29.99</td>\n",
       "      <td>22.38</td>\n",
       "      <td>36.99</td>\n",
       "      <td>1129.0</td>\n",
       "      <td>2215.0</td>\n",
       "      <td>25267.02</td>\n",
       "      <td>79587.85</td>\n",
       "      <td>4070.65</td>\n",
       "      <td>89286.27</td>\n",
       "    </tr>\n",
       "  </tbody>\n",
       "</table>\n",
       "</div>"
      ],
      "text/plain": [
       "   brand_id  vendor_id                  vendor_name  actual_price  \\\n",
       "0      8412        105  ALTAMAR BRANDS LLC                  49.99   \n",
       "1      5255       4466  AMERICAN VINTAGE BEVERAGE           12.99   \n",
       "2      5215       4466  AMERICAN VINTAGE BEVERAGE           12.99   \n",
       "3      2034        388  ATLANTIC IMPORTING COMPANY          32.99   \n",
       "4      3348        480  BACARDI USA INC                     29.99   \n",
       "\n",
       "   purchase_price  sales_price  purchase_quantity  sales_quantity  \\\n",
       "0           35.71        49.99               18.0            10.0   \n",
       "1            9.35        12.99              343.0           390.0   \n",
       "2            9.41        12.99              199.0           290.0   \n",
       "3           21.32        28.99              235.0           155.0   \n",
       "4           22.38        36.99             1129.0          2215.0   \n",
       "\n",
       "   total_purchase  total_sales  total_excise_tax  total_freight_cost  \n",
       "0          642.78       499.90              7.90               62.39  \n",
       "1         3207.05      5066.10            717.00              793.91  \n",
       "2         1872.59      3767.10            533.15              793.91  \n",
       "3         5010.20      4493.45            122.40              211.74  \n",
       "4        25267.02     79587.85           4070.65            89286.27  "
      ]
     },
     "execution_count": 15,
     "metadata": {},
     "output_type": "execute_result"
    }
   ],
   "source": [
    "import sys\n",
    "sys.path.append(\"../scripts/sql_queries.py\")\n",
    "\n",
    "from sql_queries import create_vendor_summary\n",
    "\n",
    "df = create_vendor_summary(engine)\n",
    "df.head()"
   ]
  },
  {
   "cell_type": "code",
   "execution_count": 12,
   "id": "22c7e42c",
   "metadata": {},
   "outputs": [
    {
     "name": "stdout",
     "output_type": "stream",
     "text": [
      "<class 'pandas.core.frame.DataFrame'>\n",
      "RangeIndex: 5197 entries, 0 to 5196\n",
      "Data columns (total 12 columns):\n",
      " #   Column              Non-Null Count  Dtype  \n",
      "---  ------              --------------  -----  \n",
      " 0   brand_id            5197 non-null   int64  \n",
      " 1   vendor_id           5197 non-null   int64  \n",
      " 2   vendor_name         5197 non-null   object \n",
      " 3   actual_price        5197 non-null   float64\n",
      " 4   purchase_price      5197 non-null   float64\n",
      " 5   sales_price         4339 non-null   float64\n",
      " 6   purchase_quantity   5197 non-null   float64\n",
      " 7   sales_quantity      4339 non-null   float64\n",
      " 8   total_purchase      5197 non-null   float64\n",
      " 9   total_sales         4339 non-null   float64\n",
      " 10  total_excise_tax    4339 non-null   float64\n",
      " 11  total_freight_cost  5197 non-null   float64\n",
      "dtypes: float64(9), int64(2), object(1)\n",
      "memory usage: 487.3+ KB\n"
     ]
    }
   ],
   "source": [
    "df.info()"
   ]
  }
 ],
 "metadata": {
  "kernelspec": {
   "display_name": ".venv (3.13.7)",
   "language": "python",
   "name": "python3"
  },
  "language_info": {
   "codemirror_mode": {
    "name": "ipython",
    "version": 3
   },
   "file_extension": ".py",
   "mimetype": "text/x-python",
   "name": "python",
   "nbconvert_exporter": "python",
   "pygments_lexer": "ipython3",
   "version": "3.13.7"
  }
 },
 "nbformat": 4,
 "nbformat_minor": 5
}
