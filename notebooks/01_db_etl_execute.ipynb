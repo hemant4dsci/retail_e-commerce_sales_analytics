{
 "cells": [
  {
   "cell_type": "markdown",
   "id": "38702320",
   "metadata": {},
   "source": [
    "# **Execute ETL**\n",
    "Execute the Jupyter notebook step-by-step to create a comprehensive sales summary table from the original database tables, facilitating smoother and more efficient further analysis."
   ]
  },
  {
   "cell_type": "markdown",
   "id": "8092f604",
   "metadata": {},
   "source": [
    ">## **Importing liabraries**"
   ]
  },
  {
   "cell_type": "code",
   "execution_count": 2,
   "id": "18cfa8f2",
   "metadata": {},
   "outputs": [],
   "source": [
    "import pandas as pd"
   ]
  },
  {
   "cell_type": "markdown",
   "id": "807f3844",
   "metadata": {},
   "source": [
    ">## **Connecting with MySQL Data-Base**"
   ]
  },
  {
   "cell_type": "code",
   "execution_count": 3,
   "id": "28ca0560",
   "metadata": {},
   "outputs": [],
   "source": [
    "from sqlalchemy import create_engine\n",
    "\n",
    "\"\"\"Connection Details\"\"\"\n",
    "\n",
    "user = \"root\"  # your MySQL username\n",
    "password = \"tictok#2020\"\n",
    "host = \"localhost\"  # your MySQL server IP\n",
    "port = \"3306\"\n",
    "database = \"contoso_sales\"\n",
    "\n",
    "try:\n",
    "    engine = create_engine(\n",
    "        f\"mysql+pymysql://{user}:{password}@{host}:{port}/{database}\"\n",
    "    )\n",
    "except Exception as exc:\n",
    "    print(\"Error while connecting to mysql\", exc)"
   ]
  },
  {
   "cell_type": "markdown",
   "id": "26903f07",
   "metadata": {},
   "source": [
    ">## **Execute ETL Process**"
   ]
  },
  {
   "cell_type": "code",
   "execution_count": 4,
   "id": "cfb50aa1",
   "metadata": {},
   "outputs": [
    {
     "name": "stdout",
     "output_type": "stream",
     "text": [
      "ETL Process is completed successfully\n"
     ]
    }
   ],
   "source": [
    "import sys\n",
    "\n",
    "sys.path.append(\"../scripts\")\n",
    "from db_sql_etl_process import create_sales_summary\n",
    "\n",
    "create_sales_summary(engine)"
   ]
  },
  {
   "cell_type": "markdown",
   "id": "4c3d66a5",
   "metadata": {},
   "source": [
    "The above code invokes a custom function defined within the Python script, which is designed to execute the entire **ETL** process in a single run."
   ]
  },
  {
   "cell_type": "markdown",
   "id": "b1c23949",
   "metadata": {},
   "source": [
    ">## **Sample Output of Sales Summary Table**"
   ]
  },
  {
   "cell_type": "code",
   "execution_count": 5,
   "id": "668a4813",
   "metadata": {},
   "outputs": [
    {
     "data": {
      "application/vnd.microsoft.datawrangler.viewer.v0+json": {
       "columns": [
        {
         "name": "index",
         "rawType": "int64",
         "type": "integer"
        },
        {
         "name": "id",
         "rawType": "int64",
         "type": "integer"
        },
        {
         "name": "dates",
         "rawType": "object",
         "type": "unknown"
        },
        {
         "name": "channel",
         "rawType": "object",
         "type": "string"
        },
        {
         "name": "brand",
         "rawType": "object",
         "type": "string"
        },
        {
         "name": "product_category",
         "rawType": "object",
         "type": "string"
        },
        {
         "name": "country",
         "rawType": "object",
         "type": "string"
        },
        {
         "name": "return_amount",
         "rawType": "float64",
         "type": "float"
        },
        {
         "name": "discount_amount",
         "rawType": "float64",
         "type": "float"
        },
        {
         "name": "total_cost",
         "rawType": "float64",
         "type": "float"
        },
        {
         "name": "total_sales",
         "rawType": "float64",
         "type": "float"
        },
        {
         "name": "net_sales",
         "rawType": "float64",
         "type": "float"
        },
        {
         "name": "net_profit",
         "rawType": "float64",
         "type": "float"
        },
        {
         "name": "profit_margin",
         "rawType": "float64",
         "type": "float"
        }
       ],
       "ref": "e84ddabd-0fe1-40c3-8ffc-5665667f5b1d",
       "rows": [
        [
         "0",
         "1",
         "2007-01-01",
         "Store",
         "Contoso",
         "Audio",
         "China",
         "0.0",
         "6.47",
         "66.0",
         "129.42",
         "122.95",
         "56.95",
         "46.32"
        ],
        [
         "1",
         "2",
         "2007-01-01",
         "Store",
         "Contoso",
         "Audio",
         "United Kingdom",
         "299.23",
         "119.69",
         "793.12",
         "2393.84",
         "1974.92",
         "1181.8",
         "59.84"
        ],
        [
         "2",
         "3",
         "2007-01-01",
         "Store",
         "Contoso",
         "Audio",
         "United States",
         "0.0",
         "14.96",
         "892.26",
         "2693.07",
         "2678.11",
         "1785.85",
         "66.68"
        ],
        [
         "3",
         "4",
         "2007-01-01",
         "Store",
         "Wide World Importers",
         "Audio",
         "Romania",
         "0.0",
         "0.0",
         "305.8",
         "599.8",
         "599.8",
         "294.0",
         "49.02"
        ],
        [
         "4",
         "5",
         "2007-01-01",
         "Store",
         "Wide World Importers",
         "Audio",
         "Slovenia",
         "149.95",
         "29.99",
         "305.8",
         "599.8",
         "419.86",
         "114.06",
         "27.17"
        ]
       ],
       "shape": {
        "columns": 13,
        "rows": 5
       }
      },
      "text/html": [
       "<div>\n",
       "<style scoped>\n",
       "    .dataframe tbody tr th:only-of-type {\n",
       "        vertical-align: middle;\n",
       "    }\n",
       "\n",
       "    .dataframe tbody tr th {\n",
       "        vertical-align: top;\n",
       "    }\n",
       "\n",
       "    .dataframe thead th {\n",
       "        text-align: right;\n",
       "    }\n",
       "</style>\n",
       "<table border=\"1\" class=\"dataframe\">\n",
       "  <thead>\n",
       "    <tr style=\"text-align: right;\">\n",
       "      <th></th>\n",
       "      <th>id</th>\n",
       "      <th>dates</th>\n",
       "      <th>channel</th>\n",
       "      <th>brand</th>\n",
       "      <th>product_category</th>\n",
       "      <th>country</th>\n",
       "      <th>return_amount</th>\n",
       "      <th>discount_amount</th>\n",
       "      <th>total_cost</th>\n",
       "      <th>total_sales</th>\n",
       "      <th>net_sales</th>\n",
       "      <th>net_profit</th>\n",
       "      <th>profit_margin</th>\n",
       "    </tr>\n",
       "  </thead>\n",
       "  <tbody>\n",
       "    <tr>\n",
       "      <th>0</th>\n",
       "      <td>1</td>\n",
       "      <td>2007-01-01</td>\n",
       "      <td>Store</td>\n",
       "      <td>Contoso</td>\n",
       "      <td>Audio</td>\n",
       "      <td>China</td>\n",
       "      <td>0.00</td>\n",
       "      <td>6.47</td>\n",
       "      <td>66.00</td>\n",
       "      <td>129.42</td>\n",
       "      <td>122.95</td>\n",
       "      <td>56.95</td>\n",
       "      <td>46.32</td>\n",
       "    </tr>\n",
       "    <tr>\n",
       "      <th>1</th>\n",
       "      <td>2</td>\n",
       "      <td>2007-01-01</td>\n",
       "      <td>Store</td>\n",
       "      <td>Contoso</td>\n",
       "      <td>Audio</td>\n",
       "      <td>United Kingdom</td>\n",
       "      <td>299.23</td>\n",
       "      <td>119.69</td>\n",
       "      <td>793.12</td>\n",
       "      <td>2393.84</td>\n",
       "      <td>1974.92</td>\n",
       "      <td>1181.80</td>\n",
       "      <td>59.84</td>\n",
       "    </tr>\n",
       "    <tr>\n",
       "      <th>2</th>\n",
       "      <td>3</td>\n",
       "      <td>2007-01-01</td>\n",
       "      <td>Store</td>\n",
       "      <td>Contoso</td>\n",
       "      <td>Audio</td>\n",
       "      <td>United States</td>\n",
       "      <td>0.00</td>\n",
       "      <td>14.96</td>\n",
       "      <td>892.26</td>\n",
       "      <td>2693.07</td>\n",
       "      <td>2678.11</td>\n",
       "      <td>1785.85</td>\n",
       "      <td>66.68</td>\n",
       "    </tr>\n",
       "    <tr>\n",
       "      <th>3</th>\n",
       "      <td>4</td>\n",
       "      <td>2007-01-01</td>\n",
       "      <td>Store</td>\n",
       "      <td>Wide World Importers</td>\n",
       "      <td>Audio</td>\n",
       "      <td>Romania</td>\n",
       "      <td>0.00</td>\n",
       "      <td>0.00</td>\n",
       "      <td>305.80</td>\n",
       "      <td>599.80</td>\n",
       "      <td>599.80</td>\n",
       "      <td>294.00</td>\n",
       "      <td>49.02</td>\n",
       "    </tr>\n",
       "    <tr>\n",
       "      <th>4</th>\n",
       "      <td>5</td>\n",
       "      <td>2007-01-01</td>\n",
       "      <td>Store</td>\n",
       "      <td>Wide World Importers</td>\n",
       "      <td>Audio</td>\n",
       "      <td>Slovenia</td>\n",
       "      <td>149.95</td>\n",
       "      <td>29.99</td>\n",
       "      <td>305.80</td>\n",
       "      <td>599.80</td>\n",
       "      <td>419.86</td>\n",
       "      <td>114.06</td>\n",
       "      <td>27.17</td>\n",
       "    </tr>\n",
       "  </tbody>\n",
       "</table>\n",
       "</div>"
      ],
      "text/plain": [
       "   id       dates channel                 brand product_category  \\\n",
       "0   1  2007-01-01   Store               Contoso            Audio   \n",
       "1   2  2007-01-01   Store               Contoso            Audio   \n",
       "2   3  2007-01-01   Store               Contoso            Audio   \n",
       "3   4  2007-01-01   Store  Wide World Importers            Audio   \n",
       "4   5  2007-01-01   Store  Wide World Importers            Audio   \n",
       "\n",
       "          country  return_amount  discount_amount  total_cost  total_sales  \\\n",
       "0           China           0.00             6.47       66.00       129.42   \n",
       "1  United Kingdom         299.23           119.69      793.12      2393.84   \n",
       "2   United States           0.00            14.96      892.26      2693.07   \n",
       "3         Romania           0.00             0.00      305.80       599.80   \n",
       "4        Slovenia         149.95            29.99      305.80       599.80   \n",
       "\n",
       "   net_sales  net_profit  profit_margin  \n",
       "0     122.95       56.95          46.32  \n",
       "1    1974.92     1181.80          59.84  \n",
       "2    2678.11     1785.85          66.68  \n",
       "3     599.80      294.00          49.02  \n",
       "4     419.86      114.06          27.17  "
      ]
     },
     "execution_count": 5,
     "metadata": {},
     "output_type": "execute_result"
    }
   ],
   "source": [
    "sql_query = \"\"\"\n",
    "    SELECT * FROM sales_summary;\n",
    "\"\"\"\n",
    "\n",
    "df = pd.read_sql(sql=sql_query, con=engine)\n",
    "df.head()"
   ]
  }
 ],
 "metadata": {
  "kernelspec": {
   "display_name": ".venv (3.13.7)",
   "language": "python",
   "name": "python3"
  },
  "language_info": {
   "codemirror_mode": {
    "name": "ipython",
    "version": 3
   },
   "file_extension": ".py",
   "mimetype": "text/x-python",
   "name": "python",
   "nbconvert_exporter": "python",
   "pygments_lexer": "ipython3",
   "version": "3.13.7"
  }
 },
 "nbformat": 4,
 "nbformat_minor": 5
}
