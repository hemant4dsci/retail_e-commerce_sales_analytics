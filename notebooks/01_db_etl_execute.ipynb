{
 "cells": [
  {
   "cell_type": "markdown",
   "id": "38702320",
   "metadata": {},
   "source": [
    "## **Execute ETL**\n",
    "-----\n",
    "Please execute the Jupyter notebook step-by-step to create a comprehensive sales summary table from the original database tables, facilitating smoother and more efficient further analysis."
   ]
  },
  {
   "cell_type": "markdown",
   "id": "8092f604",
   "metadata": {},
   "source": [
    "> Importing liabraries"
   ]
  },
  {
   "cell_type": "code",
   "execution_count": 1,
   "id": "18cfa8f2",
   "metadata": {},
   "outputs": [],
   "source": [
    "import pandas as pd"
   ]
  },
  {
   "cell_type": "markdown",
   "id": "807f3844",
   "metadata": {},
   "source": [
    "> Establishing connection with **MySQL** Data-Base"
   ]
  },
  {
   "cell_type": "code",
   "execution_count": 2,
   "id": "28ca0560",
   "metadata": {},
   "outputs": [],
   "source": [
    "from sqlalchemy import create_engine\n",
    "\n",
    "\"\"\"Connection Details\"\"\"\n",
    "\n",
    "user = \"root\"  # your MySQL username\n",
    "password = \"tictok#2020\"\n",
    "host = \"localhost\"  # your MySQL server IP\n",
    "port = \"3306\"\n",
    "database = \"contoso_sales\"\n",
    "\n",
    "try:\n",
    "    engine = create_engine(\n",
    "        f\"mysql+pymysql://{user}:{password}@{host}:{port}/{database}\"\n",
    "    )\n",
    "except Exception as exc:\n",
    "    print(\"Error while connecting to mysql\", exc)"
   ]
  },
  {
   "cell_type": "markdown",
   "id": "26903f07",
   "metadata": {},
   "source": [
    "> The following code invokes a custom function defined within the Python script, which is designed to execute the entire **ETL** process in a single run."
   ]
  },
  {
   "cell_type": "code",
   "execution_count": 3,
   "id": "cfb50aa1",
   "metadata": {},
   "outputs": [
    {
     "data": {
      "text/plain": [
       "'ETL Process is completed successfully'"
      ]
     },
     "execution_count": 3,
     "metadata": {},
     "output_type": "execute_result"
    }
   ],
   "source": [
    "import sys\n",
    "\n",
    "sys.path.append(\"../scripts\")\n",
    "from db_sql_etl_process import create_sales_summary\n",
    "\n",
    "create_sales_summary(engine)"
   ]
  },
  {
   "cell_type": "markdown",
   "id": "b1c23949",
   "metadata": {},
   "source": [
    "> Here is the sample output of sales summary table."
   ]
  },
  {
   "cell_type": "code",
   "execution_count": 4,
   "id": "668a4813",
   "metadata": {},
   "outputs": [
    {
     "data": {
      "application/vnd.microsoft.datawrangler.viewer.v0+json": {
       "columns": [
        {
         "name": "index",
         "rawType": "int64",
         "type": "integer"
        },
        {
         "name": "id",
         "rawType": "int64",
         "type": "integer"
        },
        {
         "name": "dates",
         "rawType": "object",
         "type": "unknown"
        },
        {
         "name": "years",
         "rawType": "int64",
         "type": "integer"
        },
        {
         "name": "quarters",
         "rawType": "object",
         "type": "string"
        },
        {
         "name": "months",
         "rawType": "object",
         "type": "string"
        },
        {
         "name": "channel_name",
         "rawType": "object",
         "type": "string"
        },
        {
         "name": "brand_name",
         "rawType": "object",
         "type": "string"
        },
        {
         "name": "class_name",
         "rawType": "object",
         "type": "string"
        },
        {
         "name": "continent_name",
         "rawType": "object",
         "type": "string"
        },
        {
         "name": "country_name",
         "rawType": "object",
         "type": "string"
        },
        {
         "name": "state_province_name",
         "rawType": "object",
         "type": "string"
        },
        {
         "name": "product_category_name",
         "rawType": "object",
         "type": "string"
        },
        {
         "name": "product_sub_category_name",
         "rawType": "object",
         "type": "string"
        },
        {
         "name": "unit_cost",
         "rawType": "float64",
         "type": "float"
        },
        {
         "name": "unit_price",
         "rawType": "float64",
         "type": "float"
        },
        {
         "name": "sales_quantity",
         "rawType": "int64",
         "type": "integer"
        },
        {
         "name": "return_quantity",
         "rawType": "int64",
         "type": "integer"
        },
        {
         "name": "return_amount",
         "rawType": "float64",
         "type": "float"
        },
        {
         "name": "discount_quantity",
         "rawType": "int64",
         "type": "integer"
        },
        {
         "name": "discount_amount",
         "rawType": "float64",
         "type": "float"
        },
        {
         "name": "total_cost",
         "rawType": "float64",
         "type": "float"
        },
        {
         "name": "total_sales",
         "rawType": "float64",
         "type": "float"
        },
        {
         "name": "net_sales",
         "rawType": "float64",
         "type": "float"
        },
        {
         "name": "net_profit",
         "rawType": "float64",
         "type": "float"
        }
       ],
       "ref": "c1a10cf8-e8fb-4675-b444-9b95fcf46bf3",
       "rows": [
        [
         "0",
         "1",
         "2007-01-01",
         "2007",
         "Q1",
         "January",
         "Store",
         "Contoso",
         "Economy",
         "Asia",
         "China",
         "Shanghai",
         "Audio",
         "MP4&MP3",
         "11.0",
         "21.57",
         "6",
         "0",
         "0.0",
         "2",
         "6.47",
         "66.0",
         "129.42",
         "122.95",
         "56.95"
        ],
        [
         "1",
         "2",
         "2007-01-01",
         "2007",
         "Q1",
         "January",
         "Store",
         "Contoso",
         "Deluxe",
         "Europe",
         "United Kingdom",
         "England",
         "Audio",
         "MP4&MP3",
         "99.14",
         "299.23",
         "8",
         "1",
         "299.23",
         "2",
         "119.69",
         "793.12",
         "2393.84",
         "1974.92",
         "1181.8"
        ],
        [
         "2",
         "3",
         "2007-01-01",
         "2007",
         "Q1",
         "January",
         "Store",
         "Contoso",
         "Deluxe",
         "North America",
         "United States",
         "Florida",
         "Audio",
         "MP4&MP3",
         "99.14",
         "299.23",
         "9",
         "0",
         "0.0",
         "1",
         "14.96",
         "892.26",
         "2693.07",
         "2678.11",
         "1785.85"
        ],
        [
         "3",
         "4",
         "2007-01-01",
         "2007",
         "Q1",
         "January",
         "Store",
         "Wide World Importers",
         "Economy",
         "Europe",
         "Romania",
         "Bucuresti",
         "Audio",
         "Recording Pen",
         "76.45",
         "149.95",
         "4",
         "0",
         "0.0",
         "0",
         "0.0",
         "305.8",
         "599.8",
         "599.8",
         "294.0"
        ],
        [
         "4",
         "5",
         "2007-01-01",
         "2007",
         "Q1",
         "January",
         "Store",
         "Wide World Importers",
         "Economy",
         "Europe",
         "Slovenia",
         "Ljubljana",
         "Audio",
         "Recording Pen",
         "76.45",
         "149.95",
         "4",
         "1",
         "149.95",
         "1",
         "29.99",
         "305.8",
         "599.8",
         "419.86",
         "114.06"
        ]
       ],
       "shape": {
        "columns": 24,
        "rows": 5
       }
      },
      "text/html": [
       "<div>\n",
       "<style scoped>\n",
       "    .dataframe tbody tr th:only-of-type {\n",
       "        vertical-align: middle;\n",
       "    }\n",
       "\n",
       "    .dataframe tbody tr th {\n",
       "        vertical-align: top;\n",
       "    }\n",
       "\n",
       "    .dataframe thead th {\n",
       "        text-align: right;\n",
       "    }\n",
       "</style>\n",
       "<table border=\"1\" class=\"dataframe\">\n",
       "  <thead>\n",
       "    <tr style=\"text-align: right;\">\n",
       "      <th></th>\n",
       "      <th>id</th>\n",
       "      <th>dates</th>\n",
       "      <th>years</th>\n",
       "      <th>quarters</th>\n",
       "      <th>months</th>\n",
       "      <th>channel_name</th>\n",
       "      <th>brand_name</th>\n",
       "      <th>class_name</th>\n",
       "      <th>continent_name</th>\n",
       "      <th>country_name</th>\n",
       "      <th>...</th>\n",
       "      <th>unit_price</th>\n",
       "      <th>sales_quantity</th>\n",
       "      <th>return_quantity</th>\n",
       "      <th>return_amount</th>\n",
       "      <th>discount_quantity</th>\n",
       "      <th>discount_amount</th>\n",
       "      <th>total_cost</th>\n",
       "      <th>total_sales</th>\n",
       "      <th>net_sales</th>\n",
       "      <th>net_profit</th>\n",
       "    </tr>\n",
       "  </thead>\n",
       "  <tbody>\n",
       "    <tr>\n",
       "      <th>0</th>\n",
       "      <td>1</td>\n",
       "      <td>2007-01-01</td>\n",
       "      <td>2007</td>\n",
       "      <td>Q1</td>\n",
       "      <td>January</td>\n",
       "      <td>Store</td>\n",
       "      <td>Contoso</td>\n",
       "      <td>Economy</td>\n",
       "      <td>Asia</td>\n",
       "      <td>China</td>\n",
       "      <td>...</td>\n",
       "      <td>21.57</td>\n",
       "      <td>6</td>\n",
       "      <td>0</td>\n",
       "      <td>0.00</td>\n",
       "      <td>2</td>\n",
       "      <td>6.47</td>\n",
       "      <td>66.00</td>\n",
       "      <td>129.42</td>\n",
       "      <td>122.95</td>\n",
       "      <td>56.95</td>\n",
       "    </tr>\n",
       "    <tr>\n",
       "      <th>1</th>\n",
       "      <td>2</td>\n",
       "      <td>2007-01-01</td>\n",
       "      <td>2007</td>\n",
       "      <td>Q1</td>\n",
       "      <td>January</td>\n",
       "      <td>Store</td>\n",
       "      <td>Contoso</td>\n",
       "      <td>Deluxe</td>\n",
       "      <td>Europe</td>\n",
       "      <td>United Kingdom</td>\n",
       "      <td>...</td>\n",
       "      <td>299.23</td>\n",
       "      <td>8</td>\n",
       "      <td>1</td>\n",
       "      <td>299.23</td>\n",
       "      <td>2</td>\n",
       "      <td>119.69</td>\n",
       "      <td>793.12</td>\n",
       "      <td>2393.84</td>\n",
       "      <td>1974.92</td>\n",
       "      <td>1181.80</td>\n",
       "    </tr>\n",
       "    <tr>\n",
       "      <th>2</th>\n",
       "      <td>3</td>\n",
       "      <td>2007-01-01</td>\n",
       "      <td>2007</td>\n",
       "      <td>Q1</td>\n",
       "      <td>January</td>\n",
       "      <td>Store</td>\n",
       "      <td>Contoso</td>\n",
       "      <td>Deluxe</td>\n",
       "      <td>North America</td>\n",
       "      <td>United States</td>\n",
       "      <td>...</td>\n",
       "      <td>299.23</td>\n",
       "      <td>9</td>\n",
       "      <td>0</td>\n",
       "      <td>0.00</td>\n",
       "      <td>1</td>\n",
       "      <td>14.96</td>\n",
       "      <td>892.26</td>\n",
       "      <td>2693.07</td>\n",
       "      <td>2678.11</td>\n",
       "      <td>1785.85</td>\n",
       "    </tr>\n",
       "    <tr>\n",
       "      <th>3</th>\n",
       "      <td>4</td>\n",
       "      <td>2007-01-01</td>\n",
       "      <td>2007</td>\n",
       "      <td>Q1</td>\n",
       "      <td>January</td>\n",
       "      <td>Store</td>\n",
       "      <td>Wide World Importers</td>\n",
       "      <td>Economy</td>\n",
       "      <td>Europe</td>\n",
       "      <td>Romania</td>\n",
       "      <td>...</td>\n",
       "      <td>149.95</td>\n",
       "      <td>4</td>\n",
       "      <td>0</td>\n",
       "      <td>0.00</td>\n",
       "      <td>0</td>\n",
       "      <td>0.00</td>\n",
       "      <td>305.80</td>\n",
       "      <td>599.80</td>\n",
       "      <td>599.80</td>\n",
       "      <td>294.00</td>\n",
       "    </tr>\n",
       "    <tr>\n",
       "      <th>4</th>\n",
       "      <td>5</td>\n",
       "      <td>2007-01-01</td>\n",
       "      <td>2007</td>\n",
       "      <td>Q1</td>\n",
       "      <td>January</td>\n",
       "      <td>Store</td>\n",
       "      <td>Wide World Importers</td>\n",
       "      <td>Economy</td>\n",
       "      <td>Europe</td>\n",
       "      <td>Slovenia</td>\n",
       "      <td>...</td>\n",
       "      <td>149.95</td>\n",
       "      <td>4</td>\n",
       "      <td>1</td>\n",
       "      <td>149.95</td>\n",
       "      <td>1</td>\n",
       "      <td>29.99</td>\n",
       "      <td>305.80</td>\n",
       "      <td>599.80</td>\n",
       "      <td>419.86</td>\n",
       "      <td>114.06</td>\n",
       "    </tr>\n",
       "  </tbody>\n",
       "</table>\n",
       "<p>5 rows × 24 columns</p>\n",
       "</div>"
      ],
      "text/plain": [
       "   id       dates  years quarters   months channel_name            brand_name  \\\n",
       "0   1  2007-01-01   2007       Q1  January        Store               Contoso   \n",
       "1   2  2007-01-01   2007       Q1  January        Store               Contoso   \n",
       "2   3  2007-01-01   2007       Q1  January        Store               Contoso   \n",
       "3   4  2007-01-01   2007       Q1  January        Store  Wide World Importers   \n",
       "4   5  2007-01-01   2007       Q1  January        Store  Wide World Importers   \n",
       "\n",
       "  class_name continent_name    country_name  ... unit_price sales_quantity  \\\n",
       "0    Economy           Asia           China  ...      21.57              6   \n",
       "1     Deluxe         Europe  United Kingdom  ...     299.23              8   \n",
       "2     Deluxe  North America   United States  ...     299.23              9   \n",
       "3    Economy         Europe         Romania  ...     149.95              4   \n",
       "4    Economy         Europe        Slovenia  ...     149.95              4   \n",
       "\n",
       "  return_quantity  return_amount  discount_quantity  discount_amount  \\\n",
       "0               0           0.00                  2             6.47   \n",
       "1               1         299.23                  2           119.69   \n",
       "2               0           0.00                  1            14.96   \n",
       "3               0           0.00                  0             0.00   \n",
       "4               1         149.95                  1            29.99   \n",
       "\n",
       "   total_cost  total_sales  net_sales  net_profit  \n",
       "0       66.00       129.42     122.95       56.95  \n",
       "1      793.12      2393.84    1974.92     1181.80  \n",
       "2      892.26      2693.07    2678.11     1785.85  \n",
       "3      305.80       599.80     599.80      294.00  \n",
       "4      305.80       599.80     419.86      114.06  \n",
       "\n",
       "[5 rows x 24 columns]"
      ]
     },
     "execution_count": 4,
     "metadata": {},
     "output_type": "execute_result"
    }
   ],
   "source": [
    "sql_query = \"\"\"\n",
    "    SELECT * FROM sales_summary;\n",
    "\"\"\"\n",
    "\n",
    "df = pd.read_sql(sql=sql_query, con=engine)\n",
    "df.head()"
   ]
  }
 ],
 "metadata": {
  "kernelspec": {
   "display_name": ".venv (3.13.7)",
   "language": "python",
   "name": "python3"
  },
  "language_info": {
   "codemirror_mode": {
    "name": "ipython",
    "version": 3
   },
   "file_extension": ".py",
   "mimetype": "text/x-python",
   "name": "python",
   "nbconvert_exporter": "python",
   "pygments_lexer": "ipython3",
   "version": "3.13.7"
  }
 },
 "nbformat": 4,
 "nbformat_minor": 5
}
