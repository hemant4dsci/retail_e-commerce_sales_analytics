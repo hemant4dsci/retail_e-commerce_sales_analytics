{
 "cells": [
  {
   "cell_type": "markdown",
   "id": "38702320",
   "metadata": {},
   "source": [
    "# **Execute ETL**\n",
    "Execute the Jupyter notebook step-by-step to create a comprehensive sales summary table from the original database tables, facilitating smoother and more efficient further analysis."
   ]
  },
  {
   "cell_type": "markdown",
   "id": "8092f604",
   "metadata": {},
   "source": [
    ">### Importing liabraries"
   ]
  },
  {
   "cell_type": "code",
   "execution_count": 4,
   "id": "18cfa8f2",
   "metadata": {},
   "outputs": [],
   "source": [
    "import pandas as pd"
   ]
  },
  {
   "cell_type": "markdown",
   "id": "807f3844",
   "metadata": {},
   "source": [
    ">### Connecting with **PostgreSQL** Data-Base"
   ]
  },
  {
   "cell_type": "code",
   "execution_count": 5,
   "id": "28ca0560",
   "metadata": {},
   "outputs": [
    {
     "name": "stdout",
     "output_type": "stream",
     "text": [
      "Successfully connected to PostgreSQL Data-Base\n"
     ]
    }
   ],
   "source": [
    "from sqlalchemy import create_engine\n",
    "\n",
    "\"\"\"Connection Details\"\"\"\n",
    "\n",
    "user = \"postgres\"  # username\n",
    "password = \"tictok#2020\"  # password\n",
    "host = \"localhost\"  # server IP\n",
    "port = \"5432\"  # port no\n",
    "database = \"walmart_sales\"  # Data-Base name\n",
    "\n",
    "try:\n",
    "    engine = create_engine(\n",
    "        f\"postgresql+psycopg2://{user}:{password}@{host}:{port}/{database}\"\n",
    "    )\n",
    "    with engine.connect() as connection:\n",
    "        print(\"Successfully connected to PostgreSQL Data-Base\")\n",
    "\n",
    "except Exception as exc:\n",
    "    print(\"Error while connecting to PostgreSQL\", exc)"
   ]
  },
  {
   "cell_type": "markdown",
   "id": "26903f07",
   "metadata": {},
   "source": [
    ">### Execute ETL Process"
   ]
  },
  {
   "cell_type": "code",
   "execution_count": 6,
   "id": "cfb50aa1",
   "metadata": {},
   "outputs": [
    {
     "name": "stdout",
     "output_type": "stream",
     "text": [
      "ETL Process is completed successfully\n"
     ]
    }
   ],
   "source": [
    "import sys\n",
    "\n",
    "sys.path.append(\"../scripts\")\n",
    "from db_sql_etl_process import ingest_db\n",
    "\n",
    "ingest_db(engine)"
   ]
  },
  {
   "cell_type": "markdown",
   "id": "4c3d66a5",
   "metadata": {},
   "source": [
    "The above code invokes a custom function defined within the Python script, which is designed to execute the entire **ETL** process in a single run."
   ]
  },
  {
   "cell_type": "markdown",
   "id": "b1c23949",
   "metadata": {},
   "source": [
    ">### Sample Output of Sales Summary Table"
   ]
  },
  {
   "cell_type": "code",
   "execution_count": 7,
   "id": "668a4813",
   "metadata": {},
   "outputs": [
    {
     "data": {
      "application/vnd.microsoft.datawrangler.viewer.v0+json": {
       "columns": [
        {
         "name": "index",
         "rawType": "int64",
         "type": "integer"
        },
        {
         "name": "id",
         "rawType": "int64",
         "type": "integer"
        },
        {
         "name": "date_key",
         "rawType": "object",
         "type": "unknown"
        },
        {
         "name": "channel",
         "rawType": "object",
         "type": "string"
        },
        {
         "name": "brand",
         "rawType": "object",
         "type": "string"
        },
        {
         "name": "product_category",
         "rawType": "object",
         "type": "string"
        },
        {
         "name": "country",
         "rawType": "object",
         "type": "string"
        },
        {
         "name": "return_amount",
         "rawType": "float64",
         "type": "float"
        },
        {
         "name": "discount_amount",
         "rawType": "float64",
         "type": "float"
        },
        {
         "name": "total_cost",
         "rawType": "float64",
         "type": "float"
        },
        {
         "name": "total_sales",
         "rawType": "float64",
         "type": "float"
        },
        {
         "name": "net_sales",
         "rawType": "float64",
         "type": "float"
        },
        {
         "name": "net_profit",
         "rawType": "float64",
         "type": "float"
        },
        {
         "name": "profit_margin",
         "rawType": "float64",
         "type": "float"
        }
       ],
       "ref": "81195d72-20e5-4b33-913c-c042b289b4be",
       "rows": [
        [
         "0",
         "1",
         "2007-01-01",
         "Catalog",
         "A. Datum",
         "Cameras and Camecorders",
         "United States",
         "0.0",
         "236.53",
         "10084.4",
         "21930.0",
         "21693.47",
         "11609.07",
         "53.51"
        ],
        [
         "1",
         "2",
         "2007-01-01",
         "Catalog",
         "Adventure Works",
         "Computers",
         "United States",
         "0.0",
         "75.2",
         "27090.72",
         "53136.0",
         "53060.8",
         "25970.08",
         "48.94"
        ],
        [
         "2",
         "3",
         "2007-01-01",
         "Catalog",
         "Adventure Works",
         "Home Appliances",
         "United States",
         "0.0",
         "29.8",
         "607.68",
         "1192.0",
         "1162.2",
         "554.52",
         "47.71"
        ],
        [
         "3",
         "4",
         "2007-01-01",
         "Catalog",
         "Adventure Works",
         "TV and Video",
         "United States",
         "0.0",
         "12.0",
         "489.36",
         "959.92",
         "947.92",
         "458.56",
         "48.38"
        ],
        [
         "4",
         "5",
         "2007-01-01",
         "Catalog",
         "Contoso",
         "Cameras and Camecorders",
         "United States",
         "0.0",
         "192.1",
         "828.0",
         "1800.0",
         "1607.9",
         "779.9",
         "48.5"
        ]
       ],
       "shape": {
        "columns": 13,
        "rows": 5
       }
      },
      "text/html": [
       "<div>\n",
       "<style scoped>\n",
       "    .dataframe tbody tr th:only-of-type {\n",
       "        vertical-align: middle;\n",
       "    }\n",
       "\n",
       "    .dataframe tbody tr th {\n",
       "        vertical-align: top;\n",
       "    }\n",
       "\n",
       "    .dataframe thead th {\n",
       "        text-align: right;\n",
       "    }\n",
       "</style>\n",
       "<table border=\"1\" class=\"dataframe\">\n",
       "  <thead>\n",
       "    <tr style=\"text-align: right;\">\n",
       "      <th></th>\n",
       "      <th>id</th>\n",
       "      <th>date_key</th>\n",
       "      <th>channel</th>\n",
       "      <th>brand</th>\n",
       "      <th>product_category</th>\n",
       "      <th>country</th>\n",
       "      <th>return_amount</th>\n",
       "      <th>discount_amount</th>\n",
       "      <th>total_cost</th>\n",
       "      <th>total_sales</th>\n",
       "      <th>net_sales</th>\n",
       "      <th>net_profit</th>\n",
       "      <th>profit_margin</th>\n",
       "    </tr>\n",
       "  </thead>\n",
       "  <tbody>\n",
       "    <tr>\n",
       "      <th>0</th>\n",
       "      <td>1</td>\n",
       "      <td>2007-01-01</td>\n",
       "      <td>Catalog</td>\n",
       "      <td>A. Datum</td>\n",
       "      <td>Cameras and Camecorders</td>\n",
       "      <td>United States</td>\n",
       "      <td>0.0</td>\n",
       "      <td>236.53</td>\n",
       "      <td>10084.40</td>\n",
       "      <td>21930.00</td>\n",
       "      <td>21693.47</td>\n",
       "      <td>11609.07</td>\n",
       "      <td>53.51</td>\n",
       "    </tr>\n",
       "    <tr>\n",
       "      <th>1</th>\n",
       "      <td>2</td>\n",
       "      <td>2007-01-01</td>\n",
       "      <td>Catalog</td>\n",
       "      <td>Adventure Works</td>\n",
       "      <td>Computers</td>\n",
       "      <td>United States</td>\n",
       "      <td>0.0</td>\n",
       "      <td>75.20</td>\n",
       "      <td>27090.72</td>\n",
       "      <td>53136.00</td>\n",
       "      <td>53060.80</td>\n",
       "      <td>25970.08</td>\n",
       "      <td>48.94</td>\n",
       "    </tr>\n",
       "    <tr>\n",
       "      <th>2</th>\n",
       "      <td>3</td>\n",
       "      <td>2007-01-01</td>\n",
       "      <td>Catalog</td>\n",
       "      <td>Adventure Works</td>\n",
       "      <td>Home Appliances</td>\n",
       "      <td>United States</td>\n",
       "      <td>0.0</td>\n",
       "      <td>29.80</td>\n",
       "      <td>607.68</td>\n",
       "      <td>1192.00</td>\n",
       "      <td>1162.20</td>\n",
       "      <td>554.52</td>\n",
       "      <td>47.71</td>\n",
       "    </tr>\n",
       "    <tr>\n",
       "      <th>3</th>\n",
       "      <td>4</td>\n",
       "      <td>2007-01-01</td>\n",
       "      <td>Catalog</td>\n",
       "      <td>Adventure Works</td>\n",
       "      <td>TV and Video</td>\n",
       "      <td>United States</td>\n",
       "      <td>0.0</td>\n",
       "      <td>12.00</td>\n",
       "      <td>489.36</td>\n",
       "      <td>959.92</td>\n",
       "      <td>947.92</td>\n",
       "      <td>458.56</td>\n",
       "      <td>48.38</td>\n",
       "    </tr>\n",
       "    <tr>\n",
       "      <th>4</th>\n",
       "      <td>5</td>\n",
       "      <td>2007-01-01</td>\n",
       "      <td>Catalog</td>\n",
       "      <td>Contoso</td>\n",
       "      <td>Cameras and Camecorders</td>\n",
       "      <td>United States</td>\n",
       "      <td>0.0</td>\n",
       "      <td>192.10</td>\n",
       "      <td>828.00</td>\n",
       "      <td>1800.00</td>\n",
       "      <td>1607.90</td>\n",
       "      <td>779.90</td>\n",
       "      <td>48.50</td>\n",
       "    </tr>\n",
       "  </tbody>\n",
       "</table>\n",
       "</div>"
      ],
      "text/plain": [
       "   id    date_key  channel            brand         product_category  \\\n",
       "0   1  2007-01-01  Catalog         A. Datum  Cameras and Camecorders   \n",
       "1   2  2007-01-01  Catalog  Adventure Works                Computers   \n",
       "2   3  2007-01-01  Catalog  Adventure Works          Home Appliances   \n",
       "3   4  2007-01-01  Catalog  Adventure Works             TV and Video   \n",
       "4   5  2007-01-01  Catalog          Contoso  Cameras and Camecorders   \n",
       "\n",
       "         country  return_amount  discount_amount  total_cost  total_sales  \\\n",
       "0  United States            0.0           236.53    10084.40     21930.00   \n",
       "1  United States            0.0            75.20    27090.72     53136.00   \n",
       "2  United States            0.0            29.80      607.68      1192.00   \n",
       "3  United States            0.0            12.00      489.36       959.92   \n",
       "4  United States            0.0           192.10      828.00      1800.00   \n",
       "\n",
       "   net_sales  net_profit  profit_margin  \n",
       "0   21693.47    11609.07          53.51  \n",
       "1   53060.80    25970.08          48.94  \n",
       "2    1162.20      554.52          47.71  \n",
       "3     947.92      458.56          48.38  \n",
       "4    1607.90      779.90          48.50  "
      ]
     },
     "execution_count": 7,
     "metadata": {},
     "output_type": "execute_result"
    }
   ],
   "source": [
    "sql_query = \"\"\"\n",
    "    SELECT * FROM sales_summary;\n",
    "\"\"\"\n",
    "\n",
    "df = pd.read_sql(sql=sql_query, con=engine)\n",
    "df.head()"
   ]
  }
 ],
 "metadata": {
  "kernelspec": {
   "display_name": ".venv (3.14.0)",
   "language": "python",
   "name": "python3"
  },
  "language_info": {
   "codemirror_mode": {
    "name": "ipython",
    "version": 3
   },
   "file_extension": ".py",
   "mimetype": "text/x-python",
   "name": "python",
   "nbconvert_exporter": "python",
   "pygments_lexer": "ipython3",
   "version": "3.14.0"
  }
 },
 "nbformat": 4,
 "nbformat_minor": 5
}
